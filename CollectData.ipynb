{
 "cells": [
  {
   "cell_type": "markdown",
   "metadata": {},
   "source": [
    "### Important packages"
   ]
  },
  {
   "cell_type": "code",
   "execution_count": 1,
   "metadata": {},
   "outputs": [],
   "source": [
    "# billboard to load data from Billboard.com\n",
    "import billboard\n",
    "# pandas to convert data into DataFrame\n",
    "import pandas as pd "
   ]
  },
  {
   "cell_type": "markdown",
   "metadata": {},
   "source": [
    "### Get top 10 artists from 2006 to 2021 \n",
    "- `artists:` top 10 artists in all years.\n",
    "- `year:` to use it when loading songs.\n",
    "- `cnt:` to stop itration when we get top 10 every year.\n",
    "- `chart:` data from Billboard which include artists names and title of songs "
   ]
  },
  {
   "cell_type": "code",
   "execution_count": 2,
   "metadata": {},
   "outputs": [
    {
     "data": {
      "text/plain": [
       "80"
      ]
     },
     "execution_count": 2,
     "metadata": {},
     "output_type": "execute_result"
    }
   ],
   "source": [
    "artists = []\n",
    "year = 2021\n",
    "for y in range(2022-2006):\n",
    "    chart = billboard.ChartData('Top-Artists', year=year)\n",
    "    cnt = 0\n",
    "    for chr in chart:\n",
    "        cnt += 1\n",
    "        if chr.artist not in artists:\n",
    "                artists.append(chr.artist)\n",
    "        if cnt == 10:\n",
    "            break\n",
    "    \n",
    "    year -= 1\n",
    "\n",
    "len(artists)"
   ]
  },
  {
   "cell_type": "markdown",
   "metadata": {},
   "source": [
    "### Make a method to load data from Billboard\n",
    "<b>prameters: </b>\n",
    "- `type:` type of chart we get from Billboard.\n",
    "- `data:` list of dictionary we collocet data into.\n",
    "- `artists:` list of artists names.\n",
    "- `titles:` list of songs name use it to avoid repeat songs.\n",
    "- `year:` use it when collect popular data.\n",
    "- `date:` use it when collect unpopular data.\n",
    "- `year:` use it when collect popular data.\n",
    "- `label:` 1 if popular and 0 if unpopular."
   ]
  },
  {
   "cell_type": "code",
   "execution_count": 3,
   "metadata": {},
   "outputs": [],
   "source": [
    "def getData(type, data, artists, titles, year=None, date=None, label=None):\n",
    "    if date==None:\n",
    "        HotChart = billboard.ChartData(type, year=year)\n",
    "    else:\n",
    "        HotChart = billboard.ChartData(type, date=date)\n",
    "    for hot in HotChart:\n",
    "        # To collect the name of artists that exists in the artist's list and choose another song for the same artist.\n",
    "        # This is to avoid repeat songs and enter artist doesn't exist in artists list.\n",
    "        if hot.title not in titles and hot.artist in artists:\n",
    "                titles.append(hot.title)\n",
    "                data.append({'Artist': hot.artist, 'Title': hot.title, 'Label': label})\n",
    "    \n",
    "    return data, titles"
   ]
  },
  {
   "cell_type": "markdown",
   "metadata": {},
   "source": [
    "### Here we collect popular data from 2006 to 2021"
   ]
  },
  {
   "cell_type": "code",
   "execution_count": 4,
   "metadata": {},
   "outputs": [],
   "source": [
    "data = []\n",
    "titles = []\n",
    "year = 2021\n",
    "for i in range(2022-2006):\n",
    "    data, titles = getData('Hot-100-Songs', data, artists, titles, year, label=1) # popular songs\n",
    "    year -= 1"
   ]
  },
  {
   "cell_type": "code",
   "execution_count": 5,
   "metadata": {},
   "outputs": [
    {
     "name": "stdout",
     "output_type": "stream",
     "text": [
      "403\n",
      "80\n",
      "403\n"
     ]
    }
   ],
   "source": [
    "print(len(data))\n",
    "print(len(artists))\n",
    "print(len(titles))"
   ]
  },
  {
   "cell_type": "markdown",
   "metadata": {},
   "source": [
    "### Here I collect popular data from 2006 to 2021 I use another songs that I don't use in popular data\n",
    "I split the year into 4 splits to get a lot of songs with the same artists which I choose and used the same techniques for every year."
   ]
  },
  {
   "cell_type": "code",
   "execution_count": 6,
   "metadata": {},
   "outputs": [],
   "source": [
    "dates = ['2021-12-01','2021-08-01','2021-04-01','2021-01-01',\n",
    "        '2020-12-01','2020-08-01','2020-04-01','2020-01-01',\n",
    "        '2019-12-01','2019-08-01','2019-04-01','2019-01-01',\n",
    "        '2018-12-01','2018-08-01','2018-04-01','2018-01-01',\n",
    "        '2017-12-01','2017-08-01','2017-04-01','2017-01-01',\n",
    "        '2016-12-01','2016-08-01','2016-04-01','2016-01-01',\n",
    "        '2015-12-01','2015-08-01','2015-04-01','2015-01-01',\n",
    "        '2014-12-01','2014-08-01','2014-04-01','2014-01-01',\n",
    "        '2013-12-01','2013-08-01','2013-04-01','2013-01-01',\n",
    "        '2012-12-01','2012-08-01','2012-04-01','2012-01-01',\n",
    "        '2011-12-01','2011-08-01','2011-04-01','2011-01-01',\n",
    "        '2010-12-01','2010-08-01','2010-04-01','2010-01-01',\n",
    "        '2009-12-01','2009-08-01','2009-04-01','2009-01-01',\n",
    "        '2008-12-01','2008-08-01','2008-04-01','2008-01-01',\n",
    "        '2007-12-01','2007-08-01','2007-04-01','2007-01-01',\n",
    "        '2006-12-01','2006-08-01','2006-04-01','2006-01-01']\n",
    "for date in dates:\n",
    "    data, titles = getData('hot-100', data, artists, titles, date=date, label=0) # unpopular songs"
   ]
  },
  {
   "cell_type": "code",
   "execution_count": 7,
   "metadata": {},
   "outputs": [
    {
     "name": "stdout",
     "output_type": "stream",
     "text": [
      "809\n",
      "80\n",
      "809\n"
     ]
    }
   ],
   "source": [
    "print(len(data))\n",
    "print(len(artists))\n",
    "print(len(titles))"
   ]
  },
  {
   "cell_type": "markdown",
   "metadata": {},
   "source": [
    "### Convert data to dataframe by using pandas"
   ]
  },
  {
   "cell_type": "code",
   "execution_count": 8,
   "metadata": {},
   "outputs": [
    {
     "data": {
      "text/html": [
       "<div>\n",
       "<style scoped>\n",
       "    .dataframe tbody tr th:only-of-type {\n",
       "        vertical-align: middle;\n",
       "    }\n",
       "\n",
       "    .dataframe tbody tr th {\n",
       "        vertical-align: top;\n",
       "    }\n",
       "\n",
       "    .dataframe thead th {\n",
       "        text-align: right;\n",
       "    }\n",
       "</style>\n",
       "<table border=\"1\" class=\"dataframe\">\n",
       "  <thead>\n",
       "    <tr style=\"text-align: right;\">\n",
       "      <th></th>\n",
       "      <th>Artist</th>\n",
       "      <th>Title</th>\n",
       "      <th>Label</th>\n",
       "    </tr>\n",
       "  </thead>\n",
       "  <tbody>\n",
       "    <tr>\n",
       "      <th>0</th>\n",
       "      <td>The Weeknd</td>\n",
       "      <td>Blinding Lights</td>\n",
       "      <td>1</td>\n",
       "    </tr>\n",
       "    <tr>\n",
       "      <th>1</th>\n",
       "      <td>Olivia Rodrigo</td>\n",
       "      <td>Good 4 U</td>\n",
       "      <td>1</td>\n",
       "    </tr>\n",
       "    <tr>\n",
       "      <th>2</th>\n",
       "      <td>Olivia Rodrigo</td>\n",
       "      <td>Drivers License</td>\n",
       "      <td>1</td>\n",
       "    </tr>\n",
       "    <tr>\n",
       "      <th>3</th>\n",
       "      <td>Lil Nas X</td>\n",
       "      <td>Montero (Call Me By Your Name)</td>\n",
       "      <td>1</td>\n",
       "    </tr>\n",
       "    <tr>\n",
       "      <th>4</th>\n",
       "      <td>BTS</td>\n",
       "      <td>Butter</td>\n",
       "      <td>1</td>\n",
       "    </tr>\n",
       "    <tr>\n",
       "      <th>...</th>\n",
       "      <td>...</td>\n",
       "      <td>...</td>\n",
       "      <td>...</td>\n",
       "    </tr>\n",
       "    <tr>\n",
       "      <th>804</th>\n",
       "      <td>Gwen Stefani</td>\n",
       "      <td>Luxurious</td>\n",
       "      <td>0</td>\n",
       "    </tr>\n",
       "    <tr>\n",
       "      <th>805</th>\n",
       "      <td>Rihanna</td>\n",
       "      <td>If It's Lovin' That You Want</td>\n",
       "      <td>0</td>\n",
       "    </tr>\n",
       "    <tr>\n",
       "      <th>806</th>\n",
       "      <td>Lil Wayne</td>\n",
       "      <td>Fireman</td>\n",
       "      <td>0</td>\n",
       "    </tr>\n",
       "    <tr>\n",
       "      <th>807</th>\n",
       "      <td>Alicia Keys</td>\n",
       "      <td>Unbreakable</td>\n",
       "      <td>0</td>\n",
       "    </tr>\n",
       "    <tr>\n",
       "      <th>808</th>\n",
       "      <td>Rascal Flatts</td>\n",
       "      <td>Skin (Sarabeth)</td>\n",
       "      <td>0</td>\n",
       "    </tr>\n",
       "  </tbody>\n",
       "</table>\n",
       "<p>809 rows × 3 columns</p>\n",
       "</div>"
      ],
      "text/plain": [
       "             Artist                           Title  Label\n",
       "0        The Weeknd                 Blinding Lights      1\n",
       "1    Olivia Rodrigo                        Good 4 U      1\n",
       "2    Olivia Rodrigo                 Drivers License      1\n",
       "3         Lil Nas X  Montero (Call Me By Your Name)      1\n",
       "4               BTS                          Butter      1\n",
       "..              ...                             ...    ...\n",
       "804    Gwen Stefani                       Luxurious      0\n",
       "805         Rihanna    If It's Lovin' That You Want      0\n",
       "806       Lil Wayne                         Fireman      0\n",
       "807     Alicia Keys                     Unbreakable      0\n",
       "808   Rascal Flatts                 Skin (Sarabeth)      0\n",
       "\n",
       "[809 rows x 3 columns]"
      ]
     },
     "execution_count": 8,
     "metadata": {},
     "output_type": "execute_result"
    }
   ],
   "source": [
    "df = pd.DataFrame(data)\n",
    "df"
   ]
  },
  {
   "cell_type": "markdown",
   "metadata": {},
   "source": [
    "### Now check if any of our artists have popular and don't have unpopular and the opposite."
   ]
  },
  {
   "cell_type": "code",
   "execution_count": 9,
   "metadata": {},
   "outputs": [],
   "source": [
    "check = []\n",
    "for artist in df['Artist']:\n",
    "    pop = len(df[(df['Artist'] == artist) & (df['Label'] == 1)])\n",
    "    un = len(df[(df['Artist'] == artist) & (df['Label'] == 0)])\n",
    "\n",
    "    if pop == 0 or un == 0:\n",
    "      check.append(artist)"
   ]
  },
  {
   "cell_type": "markdown",
   "metadata": {},
   "source": [
    "### Now delete all rows has only 0 or 1"
   ]
  },
  {
   "cell_type": "code",
   "execution_count": 10,
   "metadata": {},
   "outputs": [],
   "source": [
    "for artist in df['Artist']:\n",
    "    if artist in check:\n",
    "        index_names = df[ df['Artist'] == artist ].index\n",
    "        df.drop(index_names, inplace = True)"
   ]
  },
  {
   "cell_type": "code",
   "execution_count": 11,
   "metadata": {},
   "outputs": [
    {
     "data": {
      "text/plain": [
       "(785, 3)"
      ]
     },
     "execution_count": 11,
     "metadata": {},
     "output_type": "execute_result"
    }
   ],
   "source": [
    "df.shape"
   ]
  },
  {
   "cell_type": "markdown",
   "metadata": {},
   "source": [
    "### Save data as csv file"
   ]
  },
  {
   "cell_type": "code",
   "execution_count": 12,
   "metadata": {},
   "outputs": [],
   "source": [
    "df.to_csv('Billboard.csv', index=False)"
   ]
  },
  {
   "cell_type": "code",
   "execution_count": null,
   "metadata": {},
   "outputs": [],
   "source": []
  }
 ],
 "metadata": {
  "interpreter": {
   "hash": "06d551a9c38e3c9226fb791b081d443165cdefd6b8907d1070492d8de0992181"
  },
  "kernelspec": {
   "display_name": "Python 3.6.5 64-bit",
   "language": "python",
   "name": "python3"
  },
  "language_info": {
   "codemirror_mode": {
    "name": "ipython",
    "version": 3
   },
   "file_extension": ".py",
   "mimetype": "text/x-python",
   "name": "python",
   "nbconvert_exporter": "python",
   "pygments_lexer": "ipython3",
   "version": "3.6.5"
  },
  "orig_nbformat": 4
 },
 "nbformat": 4,
 "nbformat_minor": 2
}
